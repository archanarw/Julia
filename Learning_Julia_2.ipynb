{
 "cells": [
  {
   "cell_type": "code",
   "execution_count": 14,
   "metadata": {},
   "outputs": [
    {
     "data": {
      "text/plain": [
       "Plots.GRBackend()"
      ]
     },
     "execution_count": 14,
     "metadata": {},
     "output_type": "execute_result"
    }
   ],
   "source": [
    "using Distributions\n",
    "using StatsBase\n",
    "using CSV\n",
    "using DataFrames\n",
    "using HypothesisTests\n",
    "using StatsPlots\n",
    "using GLM\n",
    "gr()"
   ]
  },
  {
   "cell_type": "code",
   "execution_count": 15,
   "metadata": {},
   "outputs": [
    {
     "data": {
      "text/plain": [
       "100-element Array{String,1}:\n",
       " \"Worse\"\n",
       " \"Worse\"\n",
       " \"Improved\"\n",
       " \"Static\"\n",
       " \"Static\"\n",
       " \"Static\"\n",
       " \"Improved\"\n",
       " \"Static\"\n",
       " \"Worse\"\n",
       " \"Worse\"\n",
       " \"Worse\"\n",
       " \"Improved\"\n",
       " \"Static\"\n",
       " ⋮\n",
       " \"Static\"\n",
       " \"Worse\"\n",
       " \"Improved\"\n",
       " \"Static\"\n",
       " \"Worse\"\n",
       " \"Static\"\n",
       " \"Improved\"\n",
       " \"Static\"\n",
       " \"Worse\"\n",
       " \"Static\"\n",
       " \"Static\"\n",
       " \"Improved\""
      ]
     },
     "execution_count": 15,
     "metadata": {},
     "output_type": "execute_result"
    }
   ],
   "source": [
    "age = rand(18:80,100)\n",
    "wcc = round.(rand(Normal(12,2),100),digits=1)\n",
    "crp = round.(Int, rand(Chisq(4),100)).*10\n",
    "treatment  = rand([\"A\",\"B\"],100)\n",
    "result = rand([\"Improved\",\"Worse\",\"Static\"],100)"
   ]
  },
  {
   "cell_type": "code",
   "execution_count": 17,
   "metadata": {},
   "outputs": [
    {
     "data": {
      "text/html": [
       "<table class=\"data-frame\"><thead><tr><th></th><th>Age</th><th>WCC</th><th>CRP</th><th>Treatment</th><th>Result</th></tr><tr><th></th><th>Int64</th><th>Float64</th><th>Int64</th><th>String</th><th>String</th></tr></thead><tbody><p>100 rows × 5 columns</p><tr><th>1</th><td>50</td><td>11.1</td><td>10</td><td>A</td><td>Worse</td></tr><tr><th>2</th><td>73</td><td>16.2</td><td>10</td><td>B</td><td>Worse</td></tr><tr><th>3</th><td>56</td><td>10.8</td><td>110</td><td>A</td><td>Improved</td></tr><tr><th>4</th><td>60</td><td>9.5</td><td>20</td><td>A</td><td>Static</td></tr><tr><th>5</th><td>34</td><td>11.2</td><td>20</td><td>B</td><td>Static</td></tr><tr><th>6</th><td>65</td><td>10.3</td><td>80</td><td>A</td><td>Static</td></tr><tr><th>7</th><td>25</td><td>13.6</td><td>40</td><td>B</td><td>Improved</td></tr><tr><th>8</th><td>37</td><td>11.5</td><td>90</td><td>A</td><td>Static</td></tr><tr><th>9</th><td>63</td><td>10.8</td><td>40</td><td>B</td><td>Worse</td></tr><tr><th>10</th><td>66</td><td>12.4</td><td>40</td><td>B</td><td>Worse</td></tr><tr><th>11</th><td>43</td><td>10.8</td><td>100</td><td>A</td><td>Worse</td></tr><tr><th>12</th><td>29</td><td>13.1</td><td>20</td><td>A</td><td>Improved</td></tr><tr><th>13</th><td>36</td><td>7.2</td><td>100</td><td>B</td><td>Static</td></tr><tr><th>14</th><td>61</td><td>11.1</td><td>60</td><td>A</td><td>Static</td></tr><tr><th>15</th><td>59</td><td>8.6</td><td>50</td><td>B</td><td>Improved</td></tr><tr><th>16</th><td>33</td><td>12.5</td><td>20</td><td>B</td><td>Worse</td></tr><tr><th>17</th><td>74</td><td>13.5</td><td>10</td><td>B</td><td>Improved</td></tr><tr><th>18</th><td>65</td><td>13.9</td><td>50</td><td>B</td><td>Static</td></tr><tr><th>19</th><td>31</td><td>11.9</td><td>40</td><td>B</td><td>Worse</td></tr><tr><th>20</th><td>70</td><td>12.3</td><td>60</td><td>B</td><td>Improved</td></tr><tr><th>21</th><td>69</td><td>9.9</td><td>60</td><td>A</td><td>Static</td></tr><tr><th>22</th><td>79</td><td>15.2</td><td>50</td><td>B</td><td>Static</td></tr><tr><th>23</th><td>61</td><td>10.5</td><td>20</td><td>B</td><td>Static</td></tr><tr><th>24</th><td>80</td><td>12.0</td><td>70</td><td>A</td><td>Worse</td></tr><tr><th>25</th><td>53</td><td>15.4</td><td>30</td><td>A</td><td>Static</td></tr><tr><th>26</th><td>36</td><td>11.8</td><td>40</td><td>A</td><td>Static</td></tr><tr><th>27</th><td>54</td><td>10.5</td><td>100</td><td>A</td><td>Worse</td></tr><tr><th>28</th><td>60</td><td>10.1</td><td>30</td><td>B</td><td>Worse</td></tr><tr><th>29</th><td>49</td><td>14.0</td><td>20</td><td>A</td><td>Improved</td></tr><tr><th>30</th><td>25</td><td>13.1</td><td>50</td><td>B</td><td>Improved</td></tr><tr><th>&vellip;</th><td>&vellip;</td><td>&vellip;</td><td>&vellip;</td><td>&vellip;</td><td>&vellip;</td></tr></tbody></table>"
      ],
      "text/latex": [
       "\\begin{tabular}{r|ccccc}\n",
       "\t& Age & WCC & CRP & Treatment & Result\\\\\n",
       "\t\\hline\n",
       "\t& Int64 & Float64 & Int64 & String & String\\\\\n",
       "\t\\hline\n",
       "\t1 & 50 & 11.1 & 10 & A & Worse \\\\\n",
       "\t2 & 73 & 16.2 & 10 & B & Worse \\\\\n",
       "\t3 & 56 & 10.8 & 110 & A & Improved \\\\\n",
       "\t4 & 60 & 9.5 & 20 & A & Static \\\\\n",
       "\t5 & 34 & 11.2 & 20 & B & Static \\\\\n",
       "\t6 & 65 & 10.3 & 80 & A & Static \\\\\n",
       "\t7 & 25 & 13.6 & 40 & B & Improved \\\\\n",
       "\t8 & 37 & 11.5 & 90 & A & Static \\\\\n",
       "\t9 & 63 & 10.8 & 40 & B & Worse \\\\\n",
       "\t10 & 66 & 12.4 & 40 & B & Worse \\\\\n",
       "\t11 & 43 & 10.8 & 100 & A & Worse \\\\\n",
       "\t12 & 29 & 13.1 & 20 & A & Improved \\\\\n",
       "\t13 & 36 & 7.2 & 100 & B & Static \\\\\n",
       "\t14 & 61 & 11.1 & 60 & A & Static \\\\\n",
       "\t15 & 59 & 8.6 & 50 & B & Improved \\\\\n",
       "\t16 & 33 & 12.5 & 20 & B & Worse \\\\\n",
       "\t17 & 74 & 13.5 & 10 & B & Improved \\\\\n",
       "\t18 & 65 & 13.9 & 50 & B & Static \\\\\n",
       "\t19 & 31 & 11.9 & 40 & B & Worse \\\\\n",
       "\t20 & 70 & 12.3 & 60 & B & Improved \\\\\n",
       "\t21 & 69 & 9.9 & 60 & A & Static \\\\\n",
       "\t22 & 79 & 15.2 & 50 & B & Static \\\\\n",
       "\t23 & 61 & 10.5 & 20 & B & Static \\\\\n",
       "\t24 & 80 & 12.0 & 70 & A & Worse \\\\\n",
       "\t25 & 53 & 15.4 & 30 & A & Static \\\\\n",
       "\t26 & 36 & 11.8 & 40 & A & Static \\\\\n",
       "\t27 & 54 & 10.5 & 100 & A & Worse \\\\\n",
       "\t28 & 60 & 10.1 & 30 & B & Worse \\\\\n",
       "\t29 & 49 & 14.0 & 20 & A & Improved \\\\\n",
       "\t30 & 25 & 13.1 & 50 & B & Improved \\\\\n",
       "\t$\\dots$ & $\\dots$ & $\\dots$ & $\\dots$ & $\\dots$ & $\\dots$ \\\\\n",
       "\\end{tabular}\n"
      ],
      "text/plain": [
       "100×5 DataFrame\n",
       "│ Row │ Age   │ WCC     │ CRP   │ Treatment │ Result   │\n",
       "│     │ \u001b[90mInt64\u001b[39m │ \u001b[90mFloat64\u001b[39m │ \u001b[90mInt64\u001b[39m │ \u001b[90mString\u001b[39m    │ \u001b[90mString\u001b[39m   │\n",
       "├─────┼───────┼─────────┼───────┼───────────┼──────────┤\n",
       "│ 1   │ 50    │ 11.1    │ 10    │ A         │ Worse    │\n",
       "│ 2   │ 73    │ 16.2    │ 10    │ B         │ Worse    │\n",
       "│ 3   │ 56    │ 10.8    │ 110   │ A         │ Improved │\n",
       "│ 4   │ 60    │ 9.5     │ 20    │ A         │ Static   │\n",
       "│ 5   │ 34    │ 11.2    │ 20    │ B         │ Static   │\n",
       "│ 6   │ 65    │ 10.3    │ 80    │ A         │ Static   │\n",
       "│ 7   │ 25    │ 13.6    │ 40    │ B         │ Improved │\n",
       "│ 8   │ 37    │ 11.5    │ 90    │ A         │ Static   │\n",
       "│ 9   │ 63    │ 10.8    │ 40    │ B         │ Worse    │\n",
       "│ 10  │ 66    │ 12.4    │ 40    │ B         │ Worse    │\n",
       "⋮\n",
       "│ 90  │ 59    │ 13.0    │ 10    │ B         │ Worse    │\n",
       "│ 91  │ 80    │ 9.9     │ 10    │ B         │ Improved │\n",
       "│ 92  │ 64    │ 11.3    │ 10    │ B         │ Static   │\n",
       "│ 93  │ 31    │ 11.2    │ 10    │ A         │ Worse    │\n",
       "│ 94  │ 39    │ 10.7    │ 40    │ A         │ Static   │\n",
       "│ 95  │ 37    │ 8.9     │ 30    │ B         │ Improved │\n",
       "│ 96  │ 20    │ 13.0    │ 20    │ A         │ Static   │\n",
       "│ 97  │ 58    │ 9.1     │ 60    │ B         │ Worse    │\n",
       "│ 98  │ 45    │ 11.5    │ 110   │ A         │ Static   │\n",
       "│ 99  │ 25    │ 12.0    │ 30    │ B         │ Static   │\n",
       "│ 100 │ 43    │ 11.0    │ 30    │ B         │ Improved │"
      ]
     },
     "execution_count": 17,
     "metadata": {},
     "output_type": "execute_result"
    }
   ],
   "source": [
    "hospital = DataFrame(Age=age,WCC=wcc,CRP=crp,Treatment=treatment,Result=result)"
   ]
  },
  {
   "cell_type": "code",
   "execution_count": null,
   "metadata": {},
   "outputs": [],
   "source": []
  }
 ],
 "metadata": {
  "kernelspec": {
   "display_name": "JuliaPro_v1.4.2-1 1.4.2",
   "language": "julia",
   "name": "juliapro_v1.4.2-1-1.4"
  },
  "language_info": {
   "file_extension": ".jl",
   "mimetype": "application/julia",
   "name": "julia",
   "version": "1.4.2"
  }
 },
 "nbformat": 4,
 "nbformat_minor": 4
}
