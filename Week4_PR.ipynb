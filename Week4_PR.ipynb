{
 "cells": [
  {
   "cell_type": "markdown",
   "metadata": {},
   "source": [
    "# Week 4 - Working with Data"
   ]
  },
  {
   "cell_type": "markdown",
   "metadata": {},
   "source": [
    "Week 4 Peer Review - Working with Distributions and DataFrames."
   ]
  },
  {
   "cell_type": "code",
   "execution_count": 1,
   "metadata": {},
   "outputs": [],
   "source": [
    "using Distributions, DataFrames, Random"
   ]
  },
  {
   "cell_type": "code",
   "execution_count": 2,
   "metadata": {},
   "outputs": [
    {
     "data": {
      "text/html": [
       "<table class=\"data-frame\"><thead><tr><th></th><th>ID</th><th>var1</th><th>var2</th><th>var3</th></tr><tr><th></th><th>Int64</th><th>Float64</th><th>Float64</th><th>Int64</th></tr></thead><tbody><p>5 rows × 4 columns</p><tr><th>1</th><td>1</td><td>0.338147</td><td>8.33747</td><td>12</td></tr><tr><th>2</th><td>2</td><td>0.915736</td><td>8.78008</td><td>14</td></tr><tr><th>3</th><td>3</td><td>-1.35485</td><td>6.33195</td><td>6</td></tr><tr><th>4</th><td>4</td><td>-0.712413</td><td>9.67627</td><td>11</td></tr><tr><th>5</th><td>5</td><td>0.690592</td><td>10.4569</td><td>15</td></tr></tbody></table>"
      ],
      "text/latex": [
       "\\begin{tabular}{r|cccc}\n",
       "\t& ID & var1 & var2 & var3\\\\\n",
       "\t\\hline\n",
       "\t& Int64 & Float64 & Float64 & Int64\\\\\n",
       "\t\\hline\n",
       "\t1 & 1 & 0.338147 & 8.33747 & 12 \\\\\n",
       "\t2 & 2 & 0.915736 & 8.78008 & 14 \\\\\n",
       "\t3 & 3 & -1.35485 & 6.33195 & 6 \\\\\n",
       "\t4 & 4 & -0.712413 & 9.67627 & 11 \\\\\n",
       "\t5 & 5 & 0.690592 & 10.4569 & 15 \\\\\n",
       "\\end{tabular}\n"
      ],
      "text/plain": [
       "5×4 DataFrame\n",
       "│ Row │ ID    │ var1      │ var2    │ var3  │\n",
       "│     │ \u001b[90mInt64\u001b[39m │ \u001b[90mFloat64\u001b[39m   │ \u001b[90mFloat64\u001b[39m │ \u001b[90mInt64\u001b[39m │\n",
       "├─────┼───────┼───────────┼─────────┼───────┤\n",
       "│ 1   │ 1     │ 0.338147  │ 8.33747 │ 12    │\n",
       "│ 2   │ 2     │ 0.915736  │ 8.78008 │ 14    │\n",
       "│ 3   │ 3     │ -1.35485  │ 6.33195 │ 6     │\n",
       "│ 4   │ 4     │ -0.712413 │ 9.67627 │ 11    │\n",
       "│ 5   │ 5     │ 0.690592  │ 10.4569 │ 15    │"
      ]
     },
     "execution_count": 2,
     "metadata": {},
     "output_type": "execute_result"
    }
   ],
   "source": [
    "id = Array(1:30);\n",
    "Var1 = randn(30);\n",
    "Var2 = rand(Normal(10,2),30);\n",
    "Var3 = rand(5:15,30);\n",
    "df1 = DataFrame(ID = id,var1 = Var1,var2 = Var2,var3 = Var3);\n",
    "first(df1,5)"
   ]
  },
  {
   "cell_type": "code",
   "execution_count": 3,
   "metadata": {},
   "outputs": [
    {
     "data": {
      "text/html": [
       "<table class=\"data-frame\"><thead><tr><th></th><th>variable</th><th>mean</th><th>min</th><th>median</th><th>max</th><th>nunique</th><th>nmissing</th><th>eltype</th></tr><tr><th></th><th>Symbol</th><th>Float64</th><th>Real</th><th>Float64</th><th>Real</th><th>Nothing</th><th>Nothing</th><th>DataType</th></tr></thead><tbody><p>4 rows × 8 columns</p><tr><th>1</th><td>ID</td><td>15.5</td><td>1</td><td>15.5</td><td>30</td><td></td><td></td><td>Int64</td></tr><tr><th>2</th><td>var1</td><td>0.369406</td><td>-1.35485</td><td>0.225898</td><td>2.45927</td><td></td><td></td><td>Float64</td></tr><tr><th>3</th><td>var2</td><td>9.89851</td><td>6.33195</td><td>9.5714</td><td>15.3944</td><td></td><td></td><td>Float64</td></tr><tr><th>4</th><td>var3</td><td>10.4</td><td>5</td><td>11.0</td><td>15</td><td></td><td></td><td>Int64</td></tr></tbody></table>"
      ],
      "text/latex": [
       "\\begin{tabular}{r|cccccccc}\n",
       "\t& variable & mean & min & median & max & nunique & nmissing & eltype\\\\\n",
       "\t\\hline\n",
       "\t& Symbol & Float64 & Real & Float64 & Real & Nothing & Nothing & DataType\\\\\n",
       "\t\\hline\n",
       "\t1 & ID & 15.5 & 1 & 15.5 & 30 &  &  & Int64 \\\\\n",
       "\t2 & var1 & 0.369406 & -1.35485 & 0.225898 & 2.45927 &  &  & Float64 \\\\\n",
       "\t3 & var2 & 9.89851 & 6.33195 & 9.5714 & 15.3944 &  &  & Float64 \\\\\n",
       "\t4 & var3 & 10.4 & 5 & 11.0 & 15 &  &  & Int64 \\\\\n",
       "\\end{tabular}\n"
      ],
      "text/plain": [
       "4×8 DataFrame. Omitted printing of 2 columns\n",
       "│ Row │ variable │ mean     │ min      │ median   │ max     │ nunique │\n",
       "│     │ \u001b[90mSymbol\u001b[39m   │ \u001b[90mFloat64\u001b[39m  │ \u001b[90mReal\u001b[39m     │ \u001b[90mFloat64\u001b[39m  │ \u001b[90mReal\u001b[39m    │ \u001b[90mNothing\u001b[39m │\n",
       "├─────┼──────────┼──────────┼──────────┼──────────┼─────────┼─────────┤\n",
       "│ 1   │ ID       │ 15.5     │ 1        │ 15.5     │ 30      │         │\n",
       "│ 2   │ var1     │ 0.369406 │ -1.35485 │ 0.225898 │ 2.45927 │         │\n",
       "│ 3   │ var2     │ 9.89851  │ 6.33195  │ 9.5714   │ 15.3944 │         │\n",
       "│ 4   │ var3     │ 10.4     │ 5        │ 11.0     │ 15      │         │"
      ]
     },
     "execution_count": 3,
     "metadata": {},
     "output_type": "execute_result"
    }
   ],
   "source": [
    "describe(df1)"
   ]
  },
  {
   "cell_type": "code",
   "execution_count": 4,
   "metadata": {},
   "outputs": [
    {
     "name": "stdout",
     "output_type": "stream",
     "text": [
      "The mean of var1 is 0.3694055861642488\n",
      "The standrard deviation of var1 is 0.7881690712765165\n",
      "\n",
      "The mean of var2 is 9.898508038386533\n",
      "The standrard deviation of var2 is 1.8483515811474442\n",
      "\n",
      "The mean of var3 is 10.4\n",
      "The standrard deviation of var3 is 3.440128305546276\n",
      "\n"
     ]
    }
   ],
   "source": [
    "for i=1:3\n",
    "    println(\"The mean of var\",i,\" is \",mean(df1[!,i+1]))\n",
    "    println(\"The standrard deviation of var\",i,\" is \",std(df1[!,i+1]))\n",
    "    println()\n",
    "end"
   ]
  },
  {
   "cell_type": "code",
   "execution_count": 5,
   "metadata": {},
   "outputs": [
    {
     "data": {
      "text/html": [
       "<table class=\"data-frame\"><thead><tr><th></th><th>ID</th><th>var1</th><th>var2</th><th>var3</th></tr><tr><th></th><th>Int64</th><th>Float64</th><th>Float64</th><th>Int64</th></tr></thead><tbody><p>20 rows × 4 columns</p><tr><th>1</th><td>11</td><td>1.38717</td><td>9.04992</td><td>11</td></tr><tr><th>2</th><td>12</td><td>-0.231555</td><td>9.70776</td><td>14</td></tr><tr><th>3</th><td>13</td><td>0.0942004</td><td>9.08286</td><td>5</td></tr><tr><th>4</th><td>14</td><td>0.676793</td><td>8.86467</td><td>14</td></tr><tr><th>5</th><td>15</td><td>0.615586</td><td>12.3469</td><td>8</td></tr><tr><th>6</th><td>16</td><td>0.271048</td><td>15.3944</td><td>9</td></tr><tr><th>7</th><td>17</td><td>0.180748</td><td>12.5079</td><td>15</td></tr><tr><th>8</th><td>18</td><td>1.60518</td><td>7.75417</td><td>7</td></tr><tr><th>9</th><td>19</td><td>-0.0801124</td><td>9.68233</td><td>5</td></tr><tr><th>10</th><td>20</td><td>0.670769</td><td>8.22616</td><td>15</td></tr><tr><th>11</th><td>21</td><td>1.60681</td><td>9.03656</td><td>11</td></tr><tr><th>12</th><td>22</td><td>1.11726</td><td>8.44699</td><td>8</td></tr><tr><th>13</th><td>23</td><td>-0.246592</td><td>11.0566</td><td>11</td></tr><tr><th>14</th><td>24</td><td>-0.76704</td><td>10.9697</td><td>6</td></tr><tr><th>15</th><td>25</td><td>-0.33499</td><td>11.5235</td><td>14</td></tr><tr><th>16</th><td>26</td><td>0.973673</td><td>12.3263</td><td>12</td></tr><tr><th>17</th><td>27</td><td>0.123517</td><td>9.33213</td><td>10</td></tr><tr><th>18</th><td>28</td><td>0.0944221</td><td>7.79305</td><td>8</td></tr><tr><th>19</th><td>29</td><td>0.0496252</td><td>8.96597</td><td>11</td></tr><tr><th>20</th><td>30</td><td>-0.307204</td><td>12.2332</td><td>14</td></tr></tbody></table>"
      ],
      "text/latex": [
       "\\begin{tabular}{r|cccc}\n",
       "\t& ID & var1 & var2 & var3\\\\\n",
       "\t\\hline\n",
       "\t& Int64 & Float64 & Float64 & Int64\\\\\n",
       "\t\\hline\n",
       "\t1 & 11 & 1.38717 & 9.04992 & 11 \\\\\n",
       "\t2 & 12 & -0.231555 & 9.70776 & 14 \\\\\n",
       "\t3 & 13 & 0.0942004 & 9.08286 & 5 \\\\\n",
       "\t4 & 14 & 0.676793 & 8.86467 & 14 \\\\\n",
       "\t5 & 15 & 0.615586 & 12.3469 & 8 \\\\\n",
       "\t6 & 16 & 0.271048 & 15.3944 & 9 \\\\\n",
       "\t7 & 17 & 0.180748 & 12.5079 & 15 \\\\\n",
       "\t8 & 18 & 1.60518 & 7.75417 & 7 \\\\\n",
       "\t9 & 19 & -0.0801124 & 9.68233 & 5 \\\\\n",
       "\t10 & 20 & 0.670769 & 8.22616 & 15 \\\\\n",
       "\t11 & 21 & 1.60681 & 9.03656 & 11 \\\\\n",
       "\t12 & 22 & 1.11726 & 8.44699 & 8 \\\\\n",
       "\t13 & 23 & -0.246592 & 11.0566 & 11 \\\\\n",
       "\t14 & 24 & -0.76704 & 10.9697 & 6 \\\\\n",
       "\t15 & 25 & -0.33499 & 11.5235 & 14 \\\\\n",
       "\t16 & 26 & 0.973673 & 12.3263 & 12 \\\\\n",
       "\t17 & 27 & 0.123517 & 9.33213 & 10 \\\\\n",
       "\t18 & 28 & 0.0944221 & 7.79305 & 8 \\\\\n",
       "\t19 & 29 & 0.0496252 & 8.96597 & 11 \\\\\n",
       "\t20 & 30 & -0.307204 & 12.2332 & 14 \\\\\n",
       "\\end{tabular}\n"
      ],
      "text/plain": [
       "20×4 DataFrame\n",
       "│ Row │ ID    │ var1       │ var2    │ var3  │\n",
       "│     │ \u001b[90mInt64\u001b[39m │ \u001b[90mFloat64\u001b[39m    │ \u001b[90mFloat64\u001b[39m │ \u001b[90mInt64\u001b[39m │\n",
       "├─────┼───────┼────────────┼─────────┼───────┤\n",
       "│ 1   │ 11    │ 1.38717    │ 9.04992 │ 11    │\n",
       "│ 2   │ 12    │ -0.231555  │ 9.70776 │ 14    │\n",
       "│ 3   │ 13    │ 0.0942004  │ 9.08286 │ 5     │\n",
       "│ 4   │ 14    │ 0.676793   │ 8.86467 │ 14    │\n",
       "│ 5   │ 15    │ 0.615586   │ 12.3469 │ 8     │\n",
       "│ 6   │ 16    │ 0.271048   │ 15.3944 │ 9     │\n",
       "│ 7   │ 17    │ 0.180748   │ 12.5079 │ 15    │\n",
       "│ 8   │ 18    │ 1.60518    │ 7.75417 │ 7     │\n",
       "│ 9   │ 19    │ -0.0801124 │ 9.68233 │ 5     │\n",
       "│ 10  │ 20    │ 0.670769   │ 8.22616 │ 15    │\n",
       "│ 11  │ 21    │ 1.60681    │ 9.03656 │ 11    │\n",
       "│ 12  │ 22    │ 1.11726    │ 8.44699 │ 8     │\n",
       "│ 13  │ 23    │ -0.246592  │ 11.0566 │ 11    │\n",
       "│ 14  │ 24    │ -0.76704   │ 10.9697 │ 6     │\n",
       "│ 15  │ 25    │ -0.33499   │ 11.5235 │ 14    │\n",
       "│ 16  │ 26    │ 0.973673   │ 12.3263 │ 12    │\n",
       "│ 17  │ 27    │ 0.123517   │ 9.33213 │ 10    │\n",
       "│ 18  │ 28    │ 0.0944221  │ 7.79305 │ 8     │\n",
       "│ 19  │ 29    │ 0.0496252  │ 8.96597 │ 11    │\n",
       "│ 20  │ 30    │ -0.307204  │ 12.2332 │ 14    │"
      ]
     },
     "execution_count": 5,
     "metadata": {},
     "output_type": "execute_result"
    }
   ],
   "source": [
    "df2 = last(df1,20)"
   ]
  },
  {
   "cell_type": "code",
   "execution_count": 6,
   "metadata": {},
   "outputs": [
    {
     "data": {
      "text/html": [
       "<table class=\"data-frame\"><thead><tr><th></th><th>variable</th><th>mean</th><th>min</th><th>median</th><th>max</th><th>nunique</th><th>nmissing</th><th>eltype</th></tr><tr><th></th><th>Symbol</th><th>Float64</th><th>Real</th><th>Float64</th><th>Real</th><th>Nothing</th><th>Nothing</th><th>DataType</th></tr></thead><tbody><p>4 rows × 8 columns</p><tr><th>1</th><td>ID</td><td>20.5</td><td>11</td><td>20.5</td><td>30</td><td></td><td></td><td>Int64</td></tr><tr><th>2</th><td>var1</td><td>0.374965</td><td>-0.76704</td><td>0.152132</td><td>1.60681</td><td></td><td></td><td>Float64</td></tr><tr><th>3</th><td>var2</td><td>10.2151</td><td>7.75417</td><td>9.50723</td><td>15.3944</td><td></td><td></td><td>Float64</td></tr><tr><th>4</th><td>var3</td><td>10.4</td><td>5</td><td>11.0</td><td>15</td><td></td><td></td><td>Int64</td></tr></tbody></table>"
      ],
      "text/latex": [
       "\\begin{tabular}{r|cccccccc}\n",
       "\t& variable & mean & min & median & max & nunique & nmissing & eltype\\\\\n",
       "\t\\hline\n",
       "\t& Symbol & Float64 & Real & Float64 & Real & Nothing & Nothing & DataType\\\\\n",
       "\t\\hline\n",
       "\t1 & ID & 20.5 & 11 & 20.5 & 30 &  &  & Int64 \\\\\n",
       "\t2 & var1 & 0.374965 & -0.76704 & 0.152132 & 1.60681 &  &  & Float64 \\\\\n",
       "\t3 & var2 & 10.2151 & 7.75417 & 9.50723 & 15.3944 &  &  & Float64 \\\\\n",
       "\t4 & var3 & 10.4 & 5 & 11.0 & 15 &  &  & Int64 \\\\\n",
       "\\end{tabular}\n"
      ],
      "text/plain": [
       "4×8 DataFrame. Omitted printing of 2 columns\n",
       "│ Row │ variable │ mean     │ min      │ median   │ max     │ nunique │\n",
       "│     │ \u001b[90mSymbol\u001b[39m   │ \u001b[90mFloat64\u001b[39m  │ \u001b[90mReal\u001b[39m     │ \u001b[90mFloat64\u001b[39m  │ \u001b[90mReal\u001b[39m    │ \u001b[90mNothing\u001b[39m │\n",
       "├─────┼──────────┼──────────┼──────────┼──────────┼─────────┼─────────┤\n",
       "│ 1   │ ID       │ 20.5     │ 11       │ 20.5     │ 30      │         │\n",
       "│ 2   │ var1     │ 0.374965 │ -0.76704 │ 0.152132 │ 1.60681 │         │\n",
       "│ 3   │ var2     │ 10.2151  │ 7.75417  │ 9.50723  │ 15.3944 │         │\n",
       "│ 4   │ var3     │ 10.4     │ 5        │ 11.0     │ 15      │         │"
      ]
     },
     "execution_count": 6,
     "metadata": {},
     "output_type": "execute_result"
    }
   ],
   "source": [
    "describe(df2)"
   ]
  },
  {
   "cell_type": "code",
   "execution_count": 7,
   "metadata": {},
   "outputs": [
    {
     "data": {
      "text/html": [
       "<table class=\"data-frame\"><thead><tr><th></th><th>ID</th><th>var1</th><th>var2</th><th>var3</th><th>cat1</th></tr><tr><th></th><th>Int64</th><th>Float64</th><th>Float64</th><th>Int64</th><th>String</th></tr></thead><tbody><p>5 rows × 5 columns</p><tr><th>1</th><td>11</td><td>1.38717</td><td>9.04992</td><td>11</td><td>GroupB</td></tr><tr><th>2</th><td>12</td><td>-0.231555</td><td>9.70776</td><td>14</td><td>GroupA</td></tr><tr><th>3</th><td>13</td><td>0.0942004</td><td>9.08286</td><td>5</td><td>GroupB</td></tr><tr><th>4</th><td>14</td><td>0.676793</td><td>8.86467</td><td>14</td><td>GroupA</td></tr><tr><th>5</th><td>15</td><td>0.615586</td><td>12.3469</td><td>8</td><td>GroupB</td></tr></tbody></table>"
      ],
      "text/latex": [
       "\\begin{tabular}{r|ccccc}\n",
       "\t& ID & var1 & var2 & var3 & cat1\\\\\n",
       "\t\\hline\n",
       "\t& Int64 & Float64 & Float64 & Int64 & String\\\\\n",
       "\t\\hline\n",
       "\t1 & 11 & 1.38717 & 9.04992 & 11 & GroupB \\\\\n",
       "\t2 & 12 & -0.231555 & 9.70776 & 14 & GroupA \\\\\n",
       "\t3 & 13 & 0.0942004 & 9.08286 & 5 & GroupB \\\\\n",
       "\t4 & 14 & 0.676793 & 8.86467 & 14 & GroupA \\\\\n",
       "\t5 & 15 & 0.615586 & 12.3469 & 8 & GroupB \\\\\n",
       "\\end{tabular}\n"
      ],
      "text/plain": [
       "5×5 DataFrame\n",
       "│ Row │ ID    │ var1      │ var2    │ var3  │ cat1   │\n",
       "│     │ \u001b[90mInt64\u001b[39m │ \u001b[90mFloat64\u001b[39m   │ \u001b[90mFloat64\u001b[39m │ \u001b[90mInt64\u001b[39m │ \u001b[90mString\u001b[39m │\n",
       "├─────┼───────┼───────────┼─────────┼───────┼────────┤\n",
       "│ 1   │ 11    │ 1.38717   │ 9.04992 │ 11    │ GroupB │\n",
       "│ 2   │ 12    │ -0.231555 │ 9.70776 │ 14    │ GroupA │\n",
       "│ 3   │ 13    │ 0.0942004 │ 9.08286 │ 5     │ GroupB │\n",
       "│ 4   │ 14    │ 0.676793  │ 8.86467 │ 14    │ GroupA │\n",
       "│ 5   │ 15    │ 0.615586  │ 12.3469 │ 8     │ GroupB │"
      ]
     },
     "execution_count": 7,
     "metadata": {},
     "output_type": "execute_result"
    }
   ],
   "source": [
    "df2[!,:cat1] = rand([\"GroupA\",\"GroupB\"],20);\n",
    "first(df2,5)"
   ]
  },
  {
   "cell_type": "code",
   "execution_count": 8,
   "metadata": {},
   "outputs": [
    {
     "data": {
      "text/html": [
       "<table class=\"data-frame\"><thead><tr><th></th><th>ID</th><th>var4</th><th>var5</th></tr><tr><th></th><th>Int64</th><th>Int64</th><th>Int64</th></tr></thead><tbody><p>5 rows × 3 columns</p><tr><th>1</th><td>11</td><td>21</td><td>41</td></tr><tr><th>2</th><td>12</td><td>22</td><td>42</td></tr><tr><th>3</th><td>13</td><td>23</td><td>43</td></tr><tr><th>4</th><td>14</td><td>24</td><td>44</td></tr><tr><th>5</th><td>15</td><td>25</td><td>45</td></tr></tbody></table>"
      ],
      "text/latex": [
       "\\begin{tabular}{r|ccc}\n",
       "\t& ID & var4 & var5\\\\\n",
       "\t\\hline\n",
       "\t& Int64 & Int64 & Int64\\\\\n",
       "\t\\hline\n",
       "\t1 & 11 & 21 & 41 \\\\\n",
       "\t2 & 12 & 22 & 42 \\\\\n",
       "\t3 & 13 & 23 & 43 \\\\\n",
       "\t4 & 14 & 24 & 44 \\\\\n",
       "\t5 & 15 & 25 & 45 \\\\\n",
       "\\end{tabular}\n"
      ],
      "text/plain": [
       "5×3 DataFrame\n",
       "│ Row │ ID    │ var4  │ var5  │\n",
       "│     │ \u001b[90mInt64\u001b[39m │ \u001b[90mInt64\u001b[39m │ \u001b[90mInt64\u001b[39m │\n",
       "├─────┼───────┼───────┼───────┤\n",
       "│ 1   │ 11    │ 21    │ 41    │\n",
       "│ 2   │ 12    │ 22    │ 42    │\n",
       "│ 3   │ 13    │ 23    │ 43    │\n",
       "│ 4   │ 14    │ 24    │ 44    │\n",
       "│ 5   │ 15    │ 25    │ 45    │"
      ]
     },
     "execution_count": 8,
     "metadata": {},
     "output_type": "execute_result"
    }
   ],
   "source": [
    "df3 = DataFrame(ID = Array(11:30), var4 = Array(21:40), var5 = Array(41:60));\n",
    "first(df3,5)"
   ]
  },
  {
   "cell_type": "code",
   "execution_count": 9,
   "metadata": {},
   "outputs": [
    {
     "name": "stderr",
     "output_type": "stream",
     "text": [
      "┌ Warning: inner joining data frames using join is deprecated, use `innerjoin(df1, df2, on=ID, makeunique=false, validate=(false, false))` instead\n",
      "│   caller = ip:0x0\n",
      "└ @ Core :-1\n"
     ]
    },
    {
     "data": {
      "text/html": [
       "<table class=\"data-frame\"><thead><tr><th></th><th>ID</th><th>var1</th><th>var2</th><th>var3</th><th>cat1</th><th>var4</th><th>var5</th></tr><tr><th></th><th>Int64</th><th>Float64</th><th>Float64</th><th>Int64</th><th>String</th><th>Int64</th><th>Int64</th></tr></thead><tbody><p>6 rows × 7 columns</p><tr><th>1</th><td>11</td><td>1.38717</td><td>9.04992</td><td>11</td><td>GroupB</td><td>21</td><td>41</td></tr><tr><th>2</th><td>12</td><td>-0.231555</td><td>9.70776</td><td>14</td><td>GroupA</td><td>22</td><td>42</td></tr><tr><th>3</th><td>13</td><td>0.0942004</td><td>9.08286</td><td>5</td><td>GroupB</td><td>23</td><td>43</td></tr><tr><th>4</th><td>14</td><td>0.676793</td><td>8.86467</td><td>14</td><td>GroupA</td><td>24</td><td>44</td></tr><tr><th>5</th><td>15</td><td>0.615586</td><td>12.3469</td><td>8</td><td>GroupB</td><td>25</td><td>45</td></tr><tr><th>6</th><td>16</td><td>0.271048</td><td>15.3944</td><td>9</td><td>GroupB</td><td>26</td><td>46</td></tr></tbody></table>"
      ],
      "text/latex": [
       "\\begin{tabular}{r|ccccccc}\n",
       "\t& ID & var1 & var2 & var3 & cat1 & var4 & var5\\\\\n",
       "\t\\hline\n",
       "\t& Int64 & Float64 & Float64 & Int64 & String & Int64 & Int64\\\\\n",
       "\t\\hline\n",
       "\t1 & 11 & 1.38717 & 9.04992 & 11 & GroupB & 21 & 41 \\\\\n",
       "\t2 & 12 & -0.231555 & 9.70776 & 14 & GroupA & 22 & 42 \\\\\n",
       "\t3 & 13 & 0.0942004 & 9.08286 & 5 & GroupB & 23 & 43 \\\\\n",
       "\t4 & 14 & 0.676793 & 8.86467 & 14 & GroupA & 24 & 44 \\\\\n",
       "\t5 & 15 & 0.615586 & 12.3469 & 8 & GroupB & 25 & 45 \\\\\n",
       "\t6 & 16 & 0.271048 & 15.3944 & 9 & GroupB & 26 & 46 \\\\\n",
       "\\end{tabular}\n"
      ],
      "text/plain": [
       "6×7 DataFrame\n",
       "│ Row │ ID    │ var1      │ var2    │ var3  │ cat1   │ var4  │ var5  │\n",
       "│     │ \u001b[90mInt64\u001b[39m │ \u001b[90mFloat64\u001b[39m   │ \u001b[90mFloat64\u001b[39m │ \u001b[90mInt64\u001b[39m │ \u001b[90mString\u001b[39m │ \u001b[90mInt64\u001b[39m │ \u001b[90mInt64\u001b[39m │\n",
       "├─────┼───────┼───────────┼─────────┼───────┼────────┼───────┼───────┤\n",
       "│ 1   │ 11    │ 1.38717   │ 9.04992 │ 11    │ GroupB │ 21    │ 41    │\n",
       "│ 2   │ 12    │ -0.231555 │ 9.70776 │ 14    │ GroupA │ 22    │ 42    │\n",
       "│ 3   │ 13    │ 0.0942004 │ 9.08286 │ 5     │ GroupB │ 23    │ 43    │\n",
       "│ 4   │ 14    │ 0.676793  │ 8.86467 │ 14    │ GroupA │ 24    │ 44    │\n",
       "│ 5   │ 15    │ 0.615586  │ 12.3469 │ 8     │ GroupB │ 25    │ 45    │\n",
       "│ 6   │ 16    │ 0.271048  │ 15.3944 │ 9     │ GroupB │ 26    │ 46    │"
      ]
     },
     "execution_count": 9,
     "metadata": {},
     "output_type": "execute_result"
    }
   ],
   "source": [
    "df4 = join(df2,df3,on = :ID);\n",
    "first(df4,6)"
   ]
  }
 ],
 "metadata": {
  "kernelspec": {
   "display_name": "JuliaPro_v1.4.2-1 1.4.2",
   "language": "julia",
   "name": "juliapro_v1.4.2-1-1.4"
  },
  "language_info": {
   "file_extension": ".jl",
   "mimetype": "application/julia",
   "name": "julia",
   "version": "1.4.2"
  }
 },
 "nbformat": 4,
 "nbformat_minor": 1
}
